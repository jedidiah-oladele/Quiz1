{
 "cells": [
  {
   "cell_type": "markdown",
   "id": "4bc4d95f",
   "metadata": {},
   "source": [
    "# Graded Quiz 1"
   ]
  },
  {
   "cell_type": "markdown",
   "id": "4646e7db",
   "metadata": {},
   "source": [
    "This code was written for practice, after I had completed the quiz, and properly learnt the concepts\n",
    "Quiz1.py contains the actually code I wrote during the quiz"
   ]
  },
  {
   "cell_type": "code",
   "execution_count": 4,
   "id": "a0083f02",
   "metadata": {},
   "outputs": [],
   "source": [
    "import pandas\n",
    "data = pandas.read_csv('FoodBalanceSheets_E_Africa_NOFLAG.csv', encoding = \"latin-1\")"
   ]
  },
  {
   "cell_type": "markdown",
   "id": "7ac02c99",
   "metadata": {},
   "source": [
    "### Question 11"
   ]
  },
  {
   "cell_type": "code",
   "execution_count": 5,
   "id": "cb60ef6b",
   "metadata": {},
   "outputs": [
    {
     "name": "stdout",
     "output_type": "stream",
     "text": [
      "209460.54\n",
      "269617.53\n"
     ]
    }
   ],
   "source": [
    "group = data.groupby('Item')\n",
    "\n",
    "items = group['Y2014'].sum()\n",
    "print(items['Animal fats'])\n",
    "items = group['Y2017'].sum()\n",
    "print(items['Animal fats'])"
   ]
  },
  {
   "cell_type": "markdown",
   "id": "f8228a6c",
   "metadata": {},
   "source": [
    "### Question 12"
   ]
  },
  {
   "cell_type": "code",
   "execution_count": 6,
   "id": "58ce57ad",
   "metadata": {},
   "outputs": [
    {
     "name": "stdout",
     "output_type": "stream",
     "text": [
      "1603.4039839425013\n",
      "135.23596649549626\n"
     ]
    }
   ],
   "source": [
    "print(data['Y2015'].std())\n",
    "print(data['Y2015'].mean())"
   ]
  },
  {
   "cell_type": "markdown",
   "id": "d65ab3e0",
   "metadata": {},
   "source": [
    "### Question 13"
   ]
  },
  {
   "cell_type": "code",
   "execution_count": 7,
   "id": "a21e8f36",
   "metadata": {},
   "outputs": [
    {
     "name": "stdout",
     "output_type": "stream",
     "text": [
      "1535\n",
      "2.5187470259094566\n"
     ]
    }
   ],
   "source": [
    "missing_length = data['Y2016'].isnull().sum()\n",
    "full_length = len(data['Y2016'])\n",
    "print(missing_length)\n",
    "print(missing_length / full_length * 100)"
   ]
  },
  {
   "cell_type": "markdown",
   "id": "b7ac0855",
   "metadata": {},
   "source": [
    "### Question 14"
   ]
  },
  {
   "cell_type": "code",
   "execution_count": 8,
   "id": "de6bf2d8",
   "metadata": {},
   "outputs": [
    {
     "name": "stdout",
     "output_type": "stream",
     "text": [
      "Y2014\n"
     ]
    }
   ],
   "source": [
    "elem_code = data['Element Code']\n",
    "years = ['Y2014', 'Y2015', 'Y2016', 'Y2017', 'Y2018']\n",
    "correlations = {}\n",
    "for year in years:\n",
    "    correlations[year] = elem_code.corr(data[year])\n",
    "\n",
    "print(max(correlations, key=correlations.get))"
   ]
  },
  {
   "cell_type": "markdown",
   "id": "7938053b",
   "metadata": {},
   "source": [
    "### Question 15"
   ]
  },
  {
   "cell_type": "code",
   "execution_count": 9,
   "id": "68b300b7",
   "metadata": {},
   "outputs": [
    {
     "name": "stdout",
     "output_type": "stream",
     "text": [
      "Y2017\n"
     ]
    }
   ],
   "source": [
    "group = data.groupby('Element')\n",
    "years = ['Y2014', 'Y2015', 'Y2016', 'Y2017', 'Y2018']\n",
    "import_quantity = {}\n",
    "for year in years:\n",
    "    elem = group[year].sum()\n",
    "    import_quantity[year] = elem['Import Quantity']\n",
    "\n",
    "print(max(import_quantity, key=import_quantity.get))"
   ]
  },
  {
   "cell_type": "markdown",
   "id": "3f5f1fff",
   "metadata": {},
   "source": [
    "### Question 16"
   ]
  },
  {
   "cell_type": "code",
   "execution_count": 10,
   "id": "16072d70",
   "metadata": {},
   "outputs": [
    {
     "name": "stdout",
     "output_type": "stream",
     "text": [
      "1931287.75\n"
     ]
    }
   ],
   "source": [
    "group = data.groupby('Element')\n",
    "print(group['Y2014'].sum()['Production'])"
   ]
  },
  {
   "cell_type": "markdown",
   "id": "87d2eb46",
   "metadata": {},
   "source": [
    "### Question 17"
   ]
  },
  {
   "cell_type": "code",
   "execution_count": 11,
   "id": "1c3648e4",
   "metadata": {},
   "outputs": [
    {
     "name": "stdout",
     "output_type": "stream",
     "text": [
      "Domestic supply quantity\n"
     ]
    }
   ],
   "source": [
    "group = data.groupby('Element')\n",
    "elem_sums = dict(group['Y2018'].sum())\n",
    "print(max(elem_sums, key=elem_sums.get))"
   ]
  },
  {
   "cell_type": "markdown",
   "id": "ece4b6ea",
   "metadata": {},
   "source": [
    "### Question 18"
   ]
  },
  {
   "cell_type": "code",
   "execution_count": 12,
   "id": "a3c083af",
   "metadata": {},
   "outputs": [
    {
     "name": "stdout",
     "output_type": "stream",
     "text": [
      "('Protein supply quantity (g/capita/day)', 11833.56)\n"
     ]
    }
   ],
   "source": [
    "group = data.groupby('Element')\n",
    "elem_sums = dict(group['Y2018'].sum())\n",
    "sorted_elem = sorted(elem_sums.items(), key=lambda item: item[1])\n",
    "print(sorted_elem[2])"
   ]
  },
  {
   "cell_type": "markdown",
   "id": "6a203e41",
   "metadata": {},
   "source": [
    "### Question 19"
   ]
  },
  {
   "cell_type": "code",
   "execution_count": 13,
   "id": "1bc2ae32",
   "metadata": {},
   "outputs": [
    {
     "name": "stdout",
     "output_type": "stream",
     "text": [
      "36238.29\n"
     ]
    }
   ],
   "source": [
    "area_group = data.groupby('Area')\n",
    "algeria = area_group.get_group('Algeria')\n",
    "elem = algeria.groupby('Element')\n",
    "print(elem.Y2018.sum()['Import Quantity'])"
   ]
  },
  {
   "cell_type": "markdown",
   "id": "3d32e0b0",
   "metadata": {},
   "source": [
    "### Question 20"
   ]
  },
  {
   "cell_type": "code",
   "execution_count": 14,
   "id": "a19f5d3b",
   "metadata": {},
   "outputs": [
    {
     "name": "stdout",
     "output_type": "stream",
     "text": [
      "49\n"
     ]
    }
   ],
   "source": [
    "area_group = data.groupby('Area')\n",
    "print(len(area_group))"
   ]
  }
 ],
 "metadata": {
  "kernelspec": {
   "display_name": "Python 3",
   "language": "python",
   "name": "python3"
  },
  "language_info": {
   "codemirror_mode": {
    "name": "ipython",
    "version": 3
   },
   "file_extension": ".py",
   "mimetype": "text/x-python",
   "name": "python",
   "nbconvert_exporter": "python",
   "pygments_lexer": "ipython3",
   "version": "3.9.1"
  }
 },
 "nbformat": 4,
 "nbformat_minor": 5
}
